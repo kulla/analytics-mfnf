{
 "cells": [
  {
   "cell_type": "markdown",
   "id": "a05d48b8-9c4c-46ba-a31d-6c9696ff2471",
   "metadata": {},
   "source": [
    "# NOTEBOOK_TITLE\n",
    "\n",
    "## Utility functions and imports"
   ]
  },
  {
   "cell_type": "code",
   "execution_count": 1,
   "id": "6c2ffd6f-cfed-4621-83f6-5ab3df4ae37b",
   "metadata": {},
   "outputs": [],
   "source": [
    "%load_ext jupyter_ai_magics"
   ]
  },
  {
   "cell_type": "code",
   "execution_count": 2,
   "id": "484d3d0b-011e-4990-8f99-36d4f75e54ea",
   "metadata": {},
   "outputs": [],
   "source": [
    "%load_ext autoreload"
   ]
  },
  {
   "cell_type": "code",
   "execution_count": 3,
   "id": "af18c840-2d17-45de-9aa1-4db9a24afed1",
   "metadata": {},
   "outputs": [],
   "source": [
    "%autoreload 2"
   ]
  },
  {
   "cell_type": "code",
   "execution_count": 4,
   "id": "a406b2c0-b7c2-4055-b929-34c359f7b869",
   "metadata": {},
   "outputs": [],
   "source": [
    "from IPython.display import display, Markdown\n",
    "from mfnf import MFNF\n",
    "\n",
    "\n",
    "def md(text):\n",
    "    display(Markdown(text))\n",
    "\n",
    "\n",
    "df = MFNF().aggregate_pageviews()"
   ]
  },
  {
   "cell_type": "markdown",
   "id": "7456aff8-1865-4e3d-883b-da6f21068872",
   "metadata": {},
   "source": [
    "## License of this report\n",
    "\n",
    "Copyright YEAR Stephan Kulla (\"Kulla\")\n",
    "\n",
    "Licensed under the Apache License, Version 2.0 (the \"Apache License\") and Creative Commons Attribution 4.0 International (the \"CC-BY License\"). You may choose either of these licenses to govern your use of this project.\n",
    "\n",
    "You may obtain a copy of the Apache License at:\n",
    "    http://www.apache.org/licenses/LICENSE-2.0\n",
    "\n",
    "You may obtain a copy of the CC-BY License at:\n",
    "    https://creativecommons.org/licenses/by/4.0/\n",
    "\n",
    "Unless required by applicable law or agreed to in writing, software and content distributed under the Apache License is distributed on an \"AS IS\" BASIS, WITHOUT WARRANTIES OR CONDITIONS OF ANY KIND, either express or implied. See the Apache License for the specific language governing permissions and limitations under the License.\n",
    "\n",
    "Under the CC-BY License, you are free to share and adapt the material provided you give appropriate credit, provide a link to the license, and indicate if changes were made. See the CC-BY License for full details.\n",
    "\n",
    "Third-Party Components and Licenses:\n",
    "This product also includes third-party components which are distributed under their respective licenses. Please refer to the NOTICE file for details."
   ]
  }
 ],
 "metadata": {
  "kernelspec": {
   "display_name": "Python 3 (ipykernel)",
   "language": "python",
   "name": "python3"
  },
  "language_info": {
   "codemirror_mode": {
    "name": "ipython",
    "version": 3
   },
   "file_extension": ".py",
   "mimetype": "text/x-python",
   "name": "python",
   "nbconvert_exporter": "python",
   "pygments_lexer": "ipython3",
   "version": "3.13.2"
  }
 },
 "nbformat": 4,
 "nbformat_minor": 5
}
