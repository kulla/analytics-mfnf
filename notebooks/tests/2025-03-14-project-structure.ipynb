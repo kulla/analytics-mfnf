{
 "cells": [
  {
   "cell_type": "markdown",
   "id": "9b155bc6-2c9a-4955-bdff-074bbf7acae9",
   "metadata": {},
   "source": [
    "# Test of project structure"
   ]
  },
  {
   "cell_type": "code",
   "execution_count": 7,
   "id": "7743127d-ce2e-4820-bddf-876d5a6cc8a0",
   "metadata": {},
   "outputs": [
    {
     "data": {
      "text/plain": [
       "'Foo'"
      ]
     },
     "execution_count": 7,
     "metadata": {},
     "output_type": "execute_result"
    }
   ],
   "source": [
    "class WikiApi:\n",
    "    def __init__(self, project):\n",
    "        self.project = project\n",
    "\n",
    "    def get_wikitext(self, title):\n",
    "        return \"Foo\"\n",
    "\n",
    "    def get_pageviews(self, title):\n",
    "        return [1, 2, 3]\n",
    "\n",
    "\n",
    "WikiApi(\"de.wikibooks.org\").get_wikitext(\"Foo\")"
   ]
  },
  {
   "cell_type": "code",
   "execution_count": 10,
   "id": "4642d8e4-8d91-4fb5-a06c-b94da91bcc15",
   "metadata": {},
   "outputs": [
    {
     "name": "stdout",
     "output_type": "stream",
     "text": [
      "before\n"
     ]
    },
    {
     "data": {
      "text/plain": [
       "'Foo'"
      ]
     },
     "execution_count": 10,
     "metadata": {},
     "output_type": "execute_result"
    }
   ],
   "source": [
    "class CachedFunction:\n",
    "    def __init__(self, function_call):\n",
    "        self.function_call = function_call\n",
    "\n",
    "    def __call__(self):\n",
    "        print(\"before\")\n",
    "        return self.function_call()\n",
    "\n",
    "\n",
    "CachedFunction(lambda: WikiApi(\"de.wikibooks.org\").get_wikitext(\"Foo\"))()"
   ]
  },
  {
   "cell_type": "code",
   "execution_count": 12,
   "id": "99ed5cf8-9cd3-4f43-a59c-f3e39569f428",
   "metadata": {},
   "outputs": [
    {
     "data": {
      "text/plain": [
       "'hello world'"
      ]
     },
     "execution_count": 12,
     "metadata": {},
     "output_type": "execute_result"
    }
   ],
   "source": [
    "def foo(self, arg):\n",
    "    return self.name + \" \" + arg\n",
    "\n",
    "\n",
    "class A:\n",
    "    def __init__(self, name):\n",
    "        self.name = name\n",
    "\n",
    "    bar = foo\n",
    "\n",
    "\n",
    "A(\"hello\").bar(\"world\")"
   ]
  },
  {
   "cell_type": "code",
   "execution_count": 22,
   "id": "f4b2820a-feac-4b9e-a861-e29ffc33f9c7",
   "metadata": {},
   "outputs": [
    {
     "data": {
      "text/plain": [
       "'Cached: cache // Foo'"
      ]
     },
     "execution_count": 22,
     "metadata": {},
     "output_type": "execute_result"
    }
   ],
   "source": [
    "def get_wikitext(context, title):\n",
    "    return f\"Wikitext: {context.project}: {title}\"\n",
    "\n",
    "\n",
    "def cached_function(function_call):\n",
    "    def cached_function(context, *args):\n",
    "        value = function_call(context, *args)\n",
    "        return f\"Cached: {context.cache_dir} // \" + value\n",
    "\n",
    "    return cached_function\n",
    "\n",
    "\n",
    "class API:\n",
    "    def __init__(self, project):\n",
    "        self.project = project\n",
    "        self.cache_dir = \"cache\"\n",
    "\n",
    "    get_wikitext = cached_function(WikiApi.get_wikitext)\n",
    "\n",
    "\n",
    "API(\"de.wikibooks.org\").get_wikitext(\"hello\")"
   ]
  },
  {
   "cell_type": "code",
   "execution_count": 24,
   "id": "e315b307-ebec-47bf-ab4b-5684e4917fad",
   "metadata": {},
   "outputs": [
    {
     "data": {
      "text/plain": [
       "'Wikitext: de.wikibooks.org: foo'"
      ]
     },
     "execution_count": 24,
     "metadata": {},
     "output_type": "execute_result"
    }
   ],
   "source": [
    "from collections import namedtuple\n",
    "\n",
    "get_wikitext(namedtuple(\"Project\", [\"project\"])(project=\"de.wikibooks.org\"), \"foo\")"
   ]
  }
 ],
 "metadata": {
  "kernelspec": {
   "display_name": "Python 3 (ipykernel)",
   "language": "python",
   "name": "python3"
  },
  "language_info": {
   "codemirror_mode": {
    "name": "ipython",
    "version": 3
   },
   "file_extension": ".py",
   "mimetype": "text/x-python",
   "name": "python",
   "nbconvert_exporter": "python",
   "pygments_lexer": "ipython3",
   "version": "3.13.2"
  }
 },
 "nbformat": 4,
 "nbformat_minor": 5
}
