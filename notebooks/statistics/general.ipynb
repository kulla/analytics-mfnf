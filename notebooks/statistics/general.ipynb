{
 "cells": [
  {
   "cell_type": "markdown",
   "id": "62515ebe-cc15-42f6-849e-825a0a7f6950",
   "metadata": {},
   "source": [
    "# General statistics\n",
    "\n",
    "* [total views](#total-views)\n",
    "* [views per year](#views-per-year)"
   ]
  },
  {
   "cell_type": "code",
   "execution_count": 7,
   "id": "235e083d-2b8f-4fab-b781-ed2f1193b9df",
   "metadata": {},
   "outputs": [],
   "source": [
    "import pandas as pd\n",
    "import seaborn as sns\n",
    "import matplotlib.pyplot as plt\n",
    "\n",
    "from IPython.display import display, Markdown\n",
    "from mfnf import MFNF\n",
    "\n",
    "def md(text):\n",
    "    display(Markdown(text))\n",
    "\n",
    "df = MFNF().aggregate_pageviews()"
   ]
  },
  {
   "cell_type": "markdown",
   "id": "c3c55af4-995b-40f4-9cbe-30be463d57f2",
   "metadata": {},
   "source": [
    "## <span id=\"total-views\">Total views (starting from 2016-01-01)</span>\n",
    "### Total views of complete project"
   ]
  },
  {
   "cell_type": "code",
   "execution_count": 2,
   "id": "1bce6c04-b7cc-4092-b03d-860226f67ceb",
   "metadata": {},
   "outputs": [
    {
     "data": {
      "text/markdown": [
       "**Total views: 19,799,325**"
      ],
      "text/plain": [
       "<IPython.core.display.Markdown object>"
      ]
     },
     "metadata": {},
     "output_type": "display_data"
    }
   ],
   "source": [
    "total_views = df[\"views\"].sum()\n",
    "\n",
    "md(f\"**Total views: {total_views:,}**\")"
   ]
  },
  {
   "cell_type": "markdown",
   "id": "e11c9642-b904-4184-bd78-86ac8e932b60",
   "metadata": {},
   "source": [
    "## Total views per book"
   ]
  },
  {
   "cell_type": "code",
   "execution_count": 3,
   "id": "644542fe-c2d9-4fbb-bcf9-e49b990a9eb3",
   "metadata": {},
   "outputs": [
    {
     "data": {
      "text/html": [
       "<div>\n",
       "<style scoped>\n",
       "    .dataframe tbody tr th:only-of-type {\n",
       "        vertical-align: middle;\n",
       "    }\n",
       "\n",
       "    .dataframe tbody tr th {\n",
       "        vertical-align: top;\n",
       "    }\n",
       "\n",
       "    .dataframe thead th {\n",
       "        text-align: right;\n",
       "    }\n",
       "</style>\n",
       "<table border=\"1\" class=\"dataframe\">\n",
       "  <thead>\n",
       "    <tr style=\"text-align: right;\">\n",
       "      <th></th>\n",
       "      <th>views</th>\n",
       "    </tr>\n",
       "    <tr>\n",
       "      <th>book_name</th>\n",
       "      <th></th>\n",
       "    </tr>\n",
       "  </thead>\n",
       "  <tbody>\n",
       "    <tr>\n",
       "      <th>Analysis 1</th>\n",
       "      <td>10,405,977</td>\n",
       "    </tr>\n",
       "    <tr>\n",
       "      <th>Grundlagen der Mathematik</th>\n",
       "      <td>5,527,625</td>\n",
       "    </tr>\n",
       "    <tr>\n",
       "      <th>Lineare Algebra 1</th>\n",
       "      <td>2,682,087</td>\n",
       "    </tr>\n",
       "    <tr>\n",
       "      <th>Real Analysis</th>\n",
       "      <td>305,749</td>\n",
       "    </tr>\n",
       "    <tr>\n",
       "      <th>Mitmachen für (Nicht-)Freaks</th>\n",
       "      <td>146,101</td>\n",
       "    </tr>\n",
       "    <tr>\n",
       "      <th>Buchanfänge</th>\n",
       "      <td>83,700</td>\n",
       "    </tr>\n",
       "    <tr>\n",
       "      <th>Maßtheorie</th>\n",
       "      <td>81,887</td>\n",
       "    </tr>\n",
       "    <tr>\n",
       "      <th>Linear algebra</th>\n",
       "      <td>64,126</td>\n",
       "    </tr>\n",
       "    <tr>\n",
       "      <th>Über das Projekt</th>\n",
       "      <td>59,098</td>\n",
       "    </tr>\n",
       "    <tr>\n",
       "      <th>Measure theory</th>\n",
       "      <td>18,858</td>\n",
       "    </tr>\n",
       "  </tbody>\n",
       "</table>\n",
       "</div>"
      ],
      "text/plain": [
       "                                   views\n",
       "book_name                               \n",
       "Analysis 1                    10,405,977\n",
       "Grundlagen der Mathematik      5,527,625\n",
       "Lineare Algebra 1              2,682,087\n",
       "Real Analysis                    305,749\n",
       "Mitmachen für (Nicht-)Freaks     146,101\n",
       "Buchanfänge                       83,700\n",
       "Maßtheorie                        81,887\n",
       "Linear algebra                    64,126\n",
       "Über das Projekt                  59,098\n",
       "Measure theory                    18,858"
      ]
     },
     "metadata": {},
     "output_type": "display_data"
    }
   ],
   "source": [
    "views_per_book = df[[\"book_name\", \"views\"]].groupby(\"book_name\").sum()\n",
    "views_per_book.sort_values(by=\"views\", inplace=True, ascending=False)\n",
    "views_per_book[\"views\"] = views_per_book[\"views\"].apply(lambda x: f\"{x:,}\")\n",
    "display(views_per_book)"
   ]
  },
  {
   "cell_type": "markdown",
   "id": "40f7c54d-12f1-412e-9230-8d5c80aa4a9c",
   "metadata": {},
   "source": [
    "## <span id=\"views-per-year\">Views per year</span>\n",
    "### Total views per year"
   ]
  },
  {
   "cell_type": "code",
   "execution_count": 17,
   "id": "4b26cd37-651d-4305-8b9e-5f39eb659ffe",
   "metadata": {},
   "outputs": [
    {
     "data": {
      "image/png": "[encoded data removed]",
      "text/plain": [
       "<Figure size 1000x600 with 1 Axes>"
      ]
     },
     "metadata": {},
     "output_type": "display_data"
    }
   ],
   "source": [
    "def show_total_views_per_year(df):\n",
    "    df['year'] = df['timestamp'].dt.year\n",
    "    \n",
    "    # Aggregate views by year\n",
    "    yearly_views = df.groupby('year')['views'].sum().reset_index()\n",
    "    \n",
    "    # Create the bar plot\n",
    "    plt.figure(figsize=(10, 6))\n",
    "    sns.barplot(data=yearly_views, x='year', y='views')\n",
    "    \n",
    "    # Customize the last bar with a different color\n",
    "    ax = plt.gca()\n",
    "    for patch in ax.patches[:-1]:\n",
    "        patch.set_color((0.2, 0.6, 0.8))  # Set a different color for all but the last bar\n",
    "    ax.patches[-1].set_color((0.2, 0.6, 0.2))  # Set the last bar to a distinct color\n",
    "    \n",
    "    # Add plot labels and title\n",
    "    plt.title('Total Views Per Year')\n",
    "    plt.xlabel('Year')\n",
    "    plt.ylabel('Total Views')\n",
    "    plt.xticks(rotation=45)  # Rotate x labels if needed\n",
    "    plt.tight_layout()\n",
    "    plt.show()\n",
    "\n",
    "show_total_views_per_year(df.copy())"
   ]
  }
 ],
 "metadata": {
  "kernelspec": {
   "display_name": "Python 3 (ipykernel)",
   "language": "python",
   "name": "python3"
  },
  "language_info": {
   "codemirror_mode": {
    "name": "ipython",
    "version": 3
   },
   "file_extension": ".py",
   "mimetype": "text/x-python",
   "name": "python",
   "nbconvert_exporter": "python",
   "pygments_lexer": "ipython3",
   "version": "3.13.2"
  }
 },
 "nbformat": 4,
 "nbformat_minor": 5
}
