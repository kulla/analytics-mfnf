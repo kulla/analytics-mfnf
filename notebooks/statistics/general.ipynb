{
 "cells": [
  {
   "cell_type": "markdown",
   "id": "62515ebe-cc15-42f6-849e-825a0a7f6950",
   "metadata": {},
   "source": [
    "# General statistics\n",
    "\n",
    "* [Total views](#total-views)"
   ]
  },
  {
   "cell_type": "code",
   "execution_count": 6,
   "id": "235e083d-2b8f-4fab-b781-ed2f1193b9df",
   "metadata": {},
   "outputs": [],
   "source": [
    "from IPython.display import display, Markdown\n",
    "from mfnf import MFNF\n",
    "\n",
    "def md(text):\n",
    "    display(Markdown(text))\n",
    "\n",
    "df = MFNF().aggregate_pageviews()"
   ]
  },
  {
   "cell_type": "markdown",
   "id": "c3c55af4-995b-40f4-9cbe-30be463d57f2",
   "metadata": {},
   "source": [
    "## <span id=\"total-views\">Total views (starting from 2016-01-01)</span>\n",
    "### Total views of complete project"
   ]
  },
  {
   "cell_type": "code",
   "execution_count": 9,
   "id": "1bce6c04-b7cc-4092-b03d-860226f67ceb",
   "metadata": {},
   "outputs": [
    {
     "data": {
      "text/markdown": [
       "**Total views: 19,799,325**"
      ],
      "text/plain": [
       "<IPython.core.display.Markdown object>"
      ]
     },
     "metadata": {},
     "output_type": "display_data"
    }
   ],
   "source": [
    "total_views = df[\"views\"].sum()\n",
    "\n",
    "md(f\"**Total views: {total_views:,}**\")"
   ]
  },
  {
   "cell_type": "code",
   "execution_count": null,
   "id": "800e3fa1-00a3-4fb6-91c7-7639d387932d",
   "metadata": {},
   "outputs": [],
   "source": []
  }
 ],
 "metadata": {
  "kernelspec": {
   "display_name": "Python 3 (ipykernel)",
   "language": "python",
   "name": "python3"
  },
  "language_info": {
   "codemirror_mode": {
    "name": "ipython",
    "version": 3
   },
   "file_extension": ".py",
   "mimetype": "text/x-python",
   "name": "python",
   "nbconvert_exporter": "python",
   "pygments_lexer": "ipython3",
   "version": "3.13.2"
  }
 },
 "nbformat": 4,
 "nbformat_minor": 5
}
