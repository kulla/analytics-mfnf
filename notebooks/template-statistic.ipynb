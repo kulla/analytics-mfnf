{
 "cells": [
  {
   "cell_type": "markdown",
   "id": "62515ebe-cc15-42f6-849e-825a0a7f6950",
   "metadata": {},
   "source": [
    "# NOTEBOOK_TITLE"
   ]
  },
  {
   "cell_type": "code",
   "execution_count": 1,
   "id": "235e083d-2b8f-4fab-b781-ed2f1193b9df",
   "metadata": {},
   "outputs": [],
   "source": [
    "%load_ext autoreload\n",
    "%autoreload 2\n",
    "\n",
    "\n",
    "from IPython.display import display, Markdown\n",
    "from mfnf import MFNF\n",
    "\n",
    "\n",
    "def md(text):\n",
    "    display(Markdown(text))\n",
    "\n",
    "\n",
    "df = MFNF().aggregate_pageviews()"
   ]
  }
 ],
 "metadata": {
  "kernelspec": {
   "display_name": "Python 3 (ipykernel)",
   "language": "python",
   "name": "python3"
  },
  "language_info": {
   "codemirror_mode": {
    "name": "ipython",
    "version": 3
   },
   "file_extension": ".py",
   "mimetype": "text/x-python",
   "name": "python",
   "nbconvert_exporter": "python",
   "pygments_lexer": "ipython3",
   "version": "3.13.2"
  }
 },
 "nbformat": 4,
 "nbformat_minor": 5
}
